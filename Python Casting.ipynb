{
 "cells": [
  {
   "cell_type": "markdown",
   "id": "dc32963f",
   "metadata": {},
   "source": [
    "# Integers:"
   ]
  },
  {
   "cell_type": "code",
   "execution_count": 1,
   "id": "a5192f55",
   "metadata": {},
   "outputs": [
    {
     "name": "stdout",
     "output_type": "stream",
     "text": [
      "1 2 3\n"
     ]
    }
   ],
   "source": [
    "x = int(1)            # x will be 1\n",
    "y = int(2.8)          # y will be 2\n",
    "z = int(\"3\")          # z will be 3\n",
    "\n",
    "print(x , y , z)"
   ]
  },
  {
   "cell_type": "markdown",
   "id": "cf658823",
   "metadata": {},
   "source": [
    "# Float"
   ]
  },
  {
   "cell_type": "code",
   "execution_count": 2,
   "id": "16cf98a8",
   "metadata": {},
   "outputs": [],
   "source": [
    "x = float(1)                # x will be 1.0\n",
    "y = float(2.8)              # y will be 2.8\n",
    "z = float(\"3\")              # z will be 3.0\n",
    "w = float(\"4.2\")            # w will be 4.2"
   ]
  },
  {
   "cell_type": "code",
   "execution_count": 3,
   "id": "30743767",
   "metadata": {},
   "outputs": [
    {
     "name": "stdout",
     "output_type": "stream",
     "text": [
      "1.0 2.8 3.0 4.2\n"
     ]
    }
   ],
   "source": [
    "print(x,y,z,w)"
   ]
  },
  {
   "cell_type": "markdown",
   "id": "f3cb6ba1",
   "metadata": {},
   "source": [
    "# String:"
   ]
  },
  {
   "cell_type": "code",
   "execution_count": null,
   "id": "27a0a253",
   "metadata": {},
   "outputs": [],
   "source": [
    "x = str(\"s1\")        # x will be 's1'\n",
    "y = str(\"2\")         # y will be '2'\n",
    "z = str(3.0)         # z will be '3.0'\n",
    "\n",
    "print()"
   ]
  }
 ],
 "metadata": {
  "kernelspec": {
   "display_name": "Python 3 (ipykernel)",
   "language": "python",
   "name": "python3"
  },
  "language_info": {
   "codemirror_mode": {
    "name": "ipython",
    "version": 3
   },
   "file_extension": ".py",
   "mimetype": "text/x-python",
   "name": "python",
   "nbconvert_exporter": "python",
   "pygments_lexer": "ipython3",
   "version": "3.9.7"
  }
 },
 "nbformat": 4,
 "nbformat_minor": 5
}
