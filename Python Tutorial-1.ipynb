{
 "cells": [
  {
   "cell_type": "code",
   "execution_count": 1,
   "id": "7d49df50",
   "metadata": {},
   "outputs": [
    {
     "name": "stdout",
     "output_type": "stream",
     "text": [
      "Hello, World!\n"
     ]
    }
   ],
   "source": [
    "print('Hello, World!')"
   ]
  },
  {
   "cell_type": "markdown",
   "id": "ac1b1378",
   "metadata": {},
   "source": [
    "# Python Syntax"
   ]
  },
  {
   "cell_type": "code",
   "execution_count": 3,
   "id": "c15abb55",
   "metadata": {},
   "outputs": [
    {
     "name": "stdout",
     "output_type": "stream",
     "text": [
      "Five is getter then Two\n"
     ]
    }
   ],
   "source": [
    "if 5 > 2:\n",
    "    print(\"Five is getter then Two\")"
   ]
  },
  {
   "cell_type": "code",
   "execution_count": 8,
   "id": "b6739953",
   "metadata": {},
   "outputs": [
    {
     "name": "stdout",
     "output_type": "stream",
     "text": [
      "Five is getter then Two!\n",
      "Five is getter then Two!\n"
     ]
    }
   ],
   "source": [
    "if 5 > 2:\n",
    "    print(\"Five is getter then Two!\")\n",
    "    \n",
    "if 5 > 2:\n",
    "        print(\"Five is getter then Two!\")"
   ]
  },
  {
   "cell_type": "markdown",
   "id": "0218b2df",
   "metadata": {},
   "source": [
    "Variables in Python:"
   ]
  },
  {
   "cell_type": "code",
   "execution_count": 9,
   "id": "4ee4062d",
   "metadata": {},
   "outputs": [],
   "source": [
    "x = 5\n",
    "y = \"Hello, World!\""
   ]
  },
  {
   "cell_type": "markdown",
   "id": "9f258998",
   "metadata": {},
   "source": [
    "Creating a Comment,\n",
    "Comments in Python:"
   ]
  },
  {
   "cell_type": "code",
   "execution_count": 10,
   "id": "d209f919",
   "metadata": {},
   "outputs": [
    {
     "name": "stdout",
     "output_type": "stream",
     "text": [
      "Hello, World!\n"
     ]
    }
   ],
   "source": [
    "#This is a comment\n",
    "print(\"Hello, World!\")"
   ]
  },
  {
   "cell_type": "code",
   "execution_count": 11,
   "id": "24f80d9e",
   "metadata": {},
   "outputs": [
    {
     "name": "stdout",
     "output_type": "stream",
     "text": [
      "Hello, World!\n"
     ]
    }
   ],
   "source": [
    "print(\"Hello, World!\") #This is a comment"
   ]
  },
  {
   "cell_type": "code",
   "execution_count": 12,
   "id": "aaecb8b6",
   "metadata": {},
   "outputs": [
    {
     "name": "stdout",
     "output_type": "stream",
     "text": [
      "Cheers, Mate!\n"
     ]
    }
   ],
   "source": [
    "#print(\"Hello, World!\")\n",
    "print(\"Cheers, Mate!\")"
   ]
  },
  {
   "cell_type": "code",
   "execution_count": 13,
   "id": "286f517b",
   "metadata": {},
   "outputs": [
    {
     "name": "stdout",
     "output_type": "stream",
     "text": [
      "Hello, World!\n"
     ]
    }
   ],
   "source": [
    "#This is a comment\n",
    "#written in\n",
    "#more than just one line\n",
    "print(\"Hello, World!\")"
   ]
  },
  {
   "cell_type": "code",
   "execution_count": 15,
   "id": "4c61ca3c",
   "metadata": {},
   "outputs": [
    {
     "name": "stdout",
     "output_type": "stream",
     "text": [
      "Shahadot Hossain Linkon!\n"
     ]
    }
   ],
   "source": [
    "\"\"\"\n",
    "This is a comment\n",
    "written in\n",
    "more than just one line\n",
    "\"\"\"\n",
    "print(\"Shahadot Hossain Linkon!\")"
   ]
  },
  {
   "cell_type": "markdown",
   "id": "34323fe9",
   "metadata": {},
   "source": [
    "# Python Variable"
   ]
  },
  {
   "cell_type": "markdown",
   "id": "2ce9bc8f",
   "metadata": {},
   "source": [
    "Creating Variable"
   ]
  },
  {
   "cell_type": "code",
   "execution_count": 16,
   "id": "51e8e8e8",
   "metadata": {},
   "outputs": [
    {
     "name": "stdout",
     "output_type": "stream",
     "text": [
      "5\n",
      "Linkon\n"
     ]
    }
   ],
   "source": [
    "x = 5\n",
    "y = 'Linkon'\n",
    "print(x)\n",
    "print(y)"
   ]
  },
  {
   "cell_type": "code",
   "execution_count": 17,
   "id": "6faf31f6",
   "metadata": {},
   "outputs": [
    {
     "name": "stdout",
     "output_type": "stream",
     "text": [
      "Sally\n"
     ]
    }
   ],
   "source": [
    "x = 4            # x is of type int\n",
    "x = \"Sally\"      # x is now of type str\n",
    "print(x)"
   ]
  },
  {
   "cell_type": "markdown",
   "id": "6c66a4e9",
   "metadata": {},
   "source": [
    "Casting"
   ]
  },
  {
   "cell_type": "code",
   "execution_count": 18,
   "id": "e571b823",
   "metadata": {},
   "outputs": [],
   "source": [
    "x = str(3)            # x will be '3'\n",
    "y = int(3)            # y will be 3\n",
    "z = float(3)          # z will be 3.0"
   ]
  },
  {
   "cell_type": "code",
   "execution_count": 19,
   "id": "03281024",
   "metadata": {},
   "outputs": [
    {
     "name": "stdout",
     "output_type": "stream",
     "text": [
      "3\n",
      "3\n",
      "3.0\n"
     ]
    }
   ],
   "source": [
    "print(x)\n",
    "print(y)\n",
    "print(z)"
   ]
  },
  {
   "cell_type": "markdown",
   "id": "e350c7d4",
   "metadata": {},
   "source": [
    "Get the Type"
   ]
  },
  {
   "cell_type": "code",
   "execution_count": 20,
   "id": "d14426a3",
   "metadata": {},
   "outputs": [
    {
     "name": "stdout",
     "output_type": "stream",
     "text": [
      "<class 'int'>\n",
      "<class 'str'>\n"
     ]
    }
   ],
   "source": [
    "x = 5\n",
    "y = \"Linkon\"\n",
    "print(type(x))\n",
    "print(type(y))"
   ]
  },
  {
   "cell_type": "markdown",
   "id": "e79f2476",
   "metadata": {},
   "source": [
    "Single or Double Quotes?"
   ]
  },
  {
   "cell_type": "code",
   "execution_count": 21,
   "id": "3f11466f",
   "metadata": {},
   "outputs": [
    {
     "name": "stdout",
     "output_type": "stream",
     "text": [
      "John\n",
      "John\n"
     ]
    }
   ],
   "source": [
    "x = \"John\"\n",
    "print(x)\n",
    "# is the same as\n",
    "x = 'John'\n",
    "print(x)"
   ]
  },
  {
   "cell_type": "markdown",
   "id": "1e286e18",
   "metadata": {},
   "source": [
    "Case-Sensitive"
   ]
  },
  {
   "cell_type": "code",
   "execution_count": 22,
   "id": "32f432eb",
   "metadata": {},
   "outputs": [],
   "source": [
    "a = 4\n",
    "A = \"Sally\"\n",
    "#A will not overwrite a"
   ]
  },
  {
   "cell_type": "code",
   "execution_count": 23,
   "id": "eb01abb1",
   "metadata": {},
   "outputs": [
    {
     "name": "stdout",
     "output_type": "stream",
     "text": [
      "4\n",
      "Sally\n"
     ]
    }
   ],
   "source": [
    "print(a)\n",
    "print(A)"
   ]
  },
  {
   "cell_type": "markdown",
   "id": "64d95bb9",
   "metadata": {},
   "source": [
    "# Variable Names"
   ]
  },
  {
   "cell_type": "markdown",
   "id": "99b94519",
   "metadata": {},
   "source": [
    "Example"
   ]
  },
  {
   "cell_type": "code",
   "execution_count": 24,
   "id": "e8be3b3f",
   "metadata": {},
   "outputs": [],
   "source": [
    "myvar = \"Linkon\"\n",
    "my_var = \"Linkon\"\n",
    "_my_var = \"Linkon\"\n",
    "myVar = \"Linkon\"\n",
    "MYVAR = \"Linkon\"\n",
    "myvar2 = \"Linkon\""
   ]
  },
  {
   "cell_type": "code",
   "execution_count": 25,
   "id": "77ea9344",
   "metadata": {},
   "outputs": [
    {
     "name": "stdout",
     "output_type": "stream",
     "text": [
      "Linkon\n",
      "Linkon\n",
      "Linkon\n",
      "Linkon\n",
      "Linkon\n",
      "Linkon\n"
     ]
    }
   ],
   "source": [
    "print(myvar)\n",
    "print(my_var)\n",
    "print(_my_var)\n",
    "print(myVar)\n",
    "print(MYVAR)\n",
    "print(myvar2)"
   ]
  },
  {
   "cell_type": "code",
   "execution_count": 26,
   "id": "82775cb3",
   "metadata": {},
   "outputs": [
    {
     "ename": "SyntaxError",
     "evalue": "invalid syntax (Temp/ipykernel_4288/3407628864.py, line 3)",
     "output_type": "error",
     "traceback": [
      "\u001b[1;36m  File \u001b[1;32m\"C:\\Users\\91750\\AppData\\Local\\Temp/ipykernel_4288/3407628864.py\"\u001b[1;36m, line \u001b[1;32m3\u001b[0m\n\u001b[1;33m    2myvar = \"John\"\u001b[0m\n\u001b[1;37m     ^\u001b[0m\n\u001b[1;31mSyntaxError\u001b[0m\u001b[1;31m:\u001b[0m invalid syntax\n"
     ]
    }
   ],
   "source": [
    "#Illegal variable names:\n",
    "\n",
    "2myvar = \"John\"\n",
    "my-var = \"John\"\n",
    "my var = \"John\""
   ]
  },
  {
   "cell_type": "code",
   "execution_count": 28,
   "id": "182e7bbf",
   "metadata": {},
   "outputs": [
    {
     "name": "stdout",
     "output_type": "stream",
     "text": [
      "Shahadot Hossain Linkon\n"
     ]
    }
   ],
   "source": [
    "MyVariableName = \"Shahadot Hossain Linkon\"\n",
    "print(MyVariableName)"
   ]
  },
  {
   "cell_type": "code",
   "execution_count": 29,
   "id": "96cc4c9b",
   "metadata": {},
   "outputs": [],
   "source": [
    "my_variable_name = \"John\""
   ]
  },
  {
   "cell_type": "code",
   "execution_count": 30,
   "id": "d540daa4",
   "metadata": {},
   "outputs": [
    {
     "name": "stdout",
     "output_type": "stream",
     "text": [
      "John\n"
     ]
    }
   ],
   "source": [
    "print(my_variable_name)"
   ]
  },
  {
   "cell_type": "markdown",
   "id": "7ee6f3c1",
   "metadata": {},
   "source": [
    "# Assign Multiple Values"
   ]
  },
  {
   "cell_type": "markdown",
   "id": "5cafe055",
   "metadata": {},
   "source": [
    "Many Values to Multiple Variables"
   ]
  },
  {
   "cell_type": "code",
   "execution_count": 31,
   "id": "94e31590",
   "metadata": {},
   "outputs": [
    {
     "name": "stdout",
     "output_type": "stream",
     "text": [
      "Orange\n",
      "Banana\n",
      "Cherry\n"
     ]
    }
   ],
   "source": [
    "x, y, z = \"Orange\", \"Banana\", \"Cherry\"\n",
    "print(x)\n",
    "print(y)\n",
    "print(z)"
   ]
  },
  {
   "cell_type": "markdown",
   "id": "ff0824ed",
   "metadata": {},
   "source": [
    "One Value to Maltiple Variables"
   ]
  },
  {
   "cell_type": "code",
   "execution_count": 32,
   "id": "41cd937b",
   "metadata": {},
   "outputs": [
    {
     "name": "stdout",
     "output_type": "stream",
     "text": [
      "Orange\n",
      "Orange\n",
      "Orange\n"
     ]
    }
   ],
   "source": [
    "x = y = z = \"Orange\"\n",
    "print(x)\n",
    "print(y)\n",
    "print(z)"
   ]
  },
  {
   "cell_type": "markdown",
   "id": "4658a56a",
   "metadata": {},
   "source": [
    "Unpack a list:"
   ]
  },
  {
   "cell_type": "code",
   "execution_count": 33,
   "id": "51ae2c29",
   "metadata": {},
   "outputs": [
    {
     "name": "stdout",
     "output_type": "stream",
     "text": [
      "apple\n",
      "banana\n",
      "cherry\n"
     ]
    }
   ],
   "source": [
    "fruits = [\"apple\", \"banana\", \"cherry\"]\n",
    "x, y, z = fruits\n",
    "print(x)\n",
    "print(y)\n",
    "print(z)"
   ]
  },
  {
   "cell_type": "markdown",
   "id": "5b3f2452",
   "metadata": {},
   "source": [
    "# Output Variables"
   ]
  },
  {
   "cell_type": "code",
   "execution_count": 34,
   "id": "35d5dd04",
   "metadata": {},
   "outputs": [
    {
     "name": "stdout",
     "output_type": "stream",
     "text": [
      "Python is awesome\n"
     ]
    }
   ],
   "source": [
    "x = \"Python is awesome\"\n",
    "print(x)"
   ]
  },
  {
   "cell_type": "markdown",
   "id": "c86d0043",
   "metadata": {},
   "source": [
    "output maltiple variables"
   ]
  },
  {
   "cell_type": "code",
   "execution_count": 35,
   "id": "59fe765e",
   "metadata": {},
   "outputs": [
    {
     "name": "stdout",
     "output_type": "stream",
     "text": [
      "Python is awesome\n"
     ]
    }
   ],
   "source": [
    "x = \"Python\"\n",
    "y = \"is\"\n",
    "z = \"awesome\"\n",
    "print(x,y,z)"
   ]
  },
  {
   "cell_type": "markdown",
   "id": "019717f7",
   "metadata": {},
   "source": [
    "+ operator to output"
   ]
  },
  {
   "cell_type": "code",
   "execution_count": 37,
   "id": "d56c728a",
   "metadata": {},
   "outputs": [
    {
     "name": "stdout",
     "output_type": "stream",
     "text": [
      "python is awesome \n"
     ]
    }
   ],
   "source": [
    "x = \"python \"\n",
    "y = \"is \"\n",
    "z = \"awesome \"\n",
    "print(x + y + z)"
   ]
  },
  {
   "cell_type": "markdown",
   "id": "e6820603",
   "metadata": {},
   "source": [
    "For numbers, the + character works as a mathematical operator:"
   ]
  },
  {
   "cell_type": "code",
   "execution_count": 44,
   "id": "7ae90231",
   "metadata": {},
   "outputs": [
    {
     "name": "stdout",
     "output_type": "stream",
     "text": [
      "15\n"
     ]
    }
   ],
   "source": [
    "x = 5\n",
    "y = 10\n",
    "print(x+y)"
   ]
  },
  {
   "cell_type": "markdown",
   "id": "da93cfe4",
   "metadata": {},
   "source": [
    "In the print() function, when you try to combine a string and a number with the + operator, Python will give you an error:"
   ]
  },
  {
   "cell_type": "code",
   "execution_count": 45,
   "id": "d0fe39bf",
   "metadata": {},
   "outputs": [
    {
     "ename": "TypeError",
     "evalue": "unsupported operand type(s) for +: 'int' and 'str'",
     "output_type": "error",
     "traceback": [
      "\u001b[1;31m---------------------------------------------------------------------------\u001b[0m",
      "\u001b[1;31mTypeError\u001b[0m                                 Traceback (most recent call last)",
      "\u001b[1;32m~\\AppData\\Local\\Temp/ipykernel_4288/1989821626.py\u001b[0m in \u001b[0;36m<module>\u001b[1;34m\u001b[0m\n\u001b[0;32m      1\u001b[0m \u001b[0mx\u001b[0m \u001b[1;33m=\u001b[0m \u001b[1;36m5\u001b[0m\u001b[1;33m\u001b[0m\u001b[1;33m\u001b[0m\u001b[0m\n\u001b[0;32m      2\u001b[0m \u001b[0my\u001b[0m \u001b[1;33m=\u001b[0m \u001b[1;34m\"John\"\u001b[0m\u001b[1;33m\u001b[0m\u001b[1;33m\u001b[0m\u001b[0m\n\u001b[1;32m----> 3\u001b[1;33m \u001b[0mprint\u001b[0m\u001b[1;33m(\u001b[0m\u001b[0mx\u001b[0m \u001b[1;33m+\u001b[0m \u001b[0my\u001b[0m\u001b[1;33m)\u001b[0m\u001b[1;33m\u001b[0m\u001b[1;33m\u001b[0m\u001b[0m\n\u001b[0m",
      "\u001b[1;31mTypeError\u001b[0m: unsupported operand type(s) for +: 'int' and 'str'"
     ]
    }
   ],
   "source": [
    "x = 5\n",
    "y = \"John\"\n",
    "print(x + y)"
   ]
  },
  {
   "cell_type": "code",
   "execution_count": 46,
   "id": "99a2bd2c",
   "metadata": {},
   "outputs": [
    {
     "name": "stdout",
     "output_type": "stream",
     "text": [
      "5 John\n"
     ]
    }
   ],
   "source": [
    "x = 5\n",
    "y = \"John\"\n",
    "print(x, y)"
   ]
  },
  {
   "cell_type": "markdown",
   "id": "3c29d741",
   "metadata": {},
   "source": [
    "# Global Variables"
   ]
  },
  {
   "cell_type": "markdown",
   "id": "c9e9612b",
   "metadata": {},
   "source": [
    "Create a variable outside of a function, and use it inside the function"
   ]
  },
  {
   "cell_type": "code",
   "execution_count": 47,
   "id": "8e297b5f",
   "metadata": {},
   "outputs": [
    {
     "name": "stdout",
     "output_type": "stream",
     "text": [
      "Python is awesome\n"
     ]
    }
   ],
   "source": [
    "x = \"awesome\"\n",
    "\n",
    "def myfunc():\n",
    "    print(\"Python is \"+ x)\n",
    "    \n",
    "myfunc()    "
   ]
  },
  {
   "cell_type": "markdown",
   "id": "b9ebb53d",
   "metadata": {},
   "source": [
    "# Create a variable inside a function, with the same name as the global variable"
   ]
  },
  {
   "cell_type": "code",
   "execution_count": 48,
   "id": "3bb5cfc1",
   "metadata": {},
   "outputs": [
    {
     "name": "stdout",
     "output_type": "stream",
     "text": [
      "Python is fantastic\n",
      "Python is awesome\n"
     ]
    }
   ],
   "source": [
    "x = \"awesome\"\n",
    "\n",
    "def myfunc():\n",
    "    x = \"fantastic\"\n",
    "    print(\"Python is \" + x)\n",
    "    \n",
    "myfunc()\n",
    "\n",
    "print(\"Python is \" + x)"
   ]
  },
  {
   "cell_type": "markdown",
   "id": "202b26cf",
   "metadata": {},
   "source": [
    "If you use the global keyword, the variable belongs to the global scope:"
   ]
  },
  {
   "cell_type": "code",
   "execution_count": 49,
   "id": "f15b5daf",
   "metadata": {},
   "outputs": [
    {
     "name": "stdout",
     "output_type": "stream",
     "text": [
      "Python is fantastic\n"
     ]
    }
   ],
   "source": [
    "def myfunc():\n",
    "    global x\n",
    "    x = \"fantastic\"\n",
    "    \n",
    "myfunc()\n",
    "\n",
    "print(\"Python is \" + x)"
   ]
  },
  {
   "cell_type": "markdown",
   "id": "68e45ff1",
   "metadata": {},
   "source": [
    "To change the value of a global variable inside a function, refer to the variable by using the global keyword:"
   ]
  },
  {
   "cell_type": "code",
   "execution_count": 50,
   "id": "d57d70ba",
   "metadata": {},
   "outputs": [
    {
     "name": "stdout",
     "output_type": "stream",
     "text": [
      "Python is fantastic\n"
     ]
    }
   ],
   "source": [
    "x = \"awesome\"\n",
    "\n",
    "def myfunc():\n",
    "    global x \n",
    "    x = \"fantastic\"\n",
    "    \n",
    "myfunc()\n",
    "\n",
    "print(\"Python is \" + x)"
   ]
  },
  {
   "cell_type": "markdown",
   "id": "63e118a8",
   "metadata": {},
   "source": [
    "# Variable Exercises"
   ]
  },
  {
   "cell_type": "code",
   "execution_count": null,
   "id": "14f6918f",
   "metadata": {},
   "outputs": [],
   "source": []
  }
 ],
 "metadata": {
  "kernelspec": {
   "display_name": "Python 3 (ipykernel)",
   "language": "python",
   "name": "python3"
  },
  "language_info": {
   "codemirror_mode": {
    "name": "ipython",
    "version": 3
   },
   "file_extension": ".py",
   "mimetype": "text/x-python",
   "name": "python",
   "nbconvert_exporter": "python",
   "pygments_lexer": "ipython3",
   "version": "3.9.7"
  }
 },
 "nbformat": 4,
 "nbformat_minor": 5
}
